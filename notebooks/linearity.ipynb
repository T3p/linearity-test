{
 "cells": [
  {
   "cell_type": "markdown",
   "metadata": {},
   "source": [
    "# Testing Linearity"
   ]
  },
  {
   "cell_type": "code",
   "execution_count": 1,
   "metadata": {},
   "outputs": [],
   "source": [
    "import numpy as np\n",
    "import matplotlib.pyplot as plt\n",
    "from mpl_toolkits.mplot3d import axes3d\n",
    "from lintest.testers.linearity import linearity_tester\n",
    "from lintest.zoo.functions import make_linear, make_stretched_tanh, make_noisy_linear, make_corrupted_linear\n",
    "from lintest.zoo.distributions import make_uniform"
   ]
  },
  {
   "cell_type": "markdown",
   "metadata": {},
   "source": [
    "Given continuous function $f:\\mathbb{R}^d\\to\\mathbb{R}$ and distribution $\\mathcal{D}\\in\\Delta(\\mathbb{R}^m)$, reject if:\n",
    "\n",
    "$\\mathbb{P}_{x\\sim\\mathcal{D}}\\left(f(x)\\neq g(x)\\right)>\\epsilon$ for any linear measurable function $g$\n",
    "\n",
    "Test from <em>Fleming and Yoshida, \"Distribution-Free Testing of Linear Functions on $\\mathbb{R}^n$\" (ITCS 2020)</em>"
   ]
  },
  {
   "cell_type": "markdown",
   "metadata": {},
   "source": [
    "## Linear functions"
   ]
  },
  {
   "cell_type": "markdown",
   "metadata": {},
   "source": [
    "The test always accepts linear functions"
   ]
  },
  {
   "cell_type": "code",
   "execution_count": 2,
   "metadata": {},
   "outputs": [
    {
     "data": {
      "text/plain": [
       "True"
      ]
     },
     "execution_count": 2,
     "metadata": {},
     "output_type": "execute_result"
    }
   ],
   "source": [
    "w = np.random.normal(size=1)\n",
    "f = make_linear(w)\n",
    "linearity_tester(f, input_dim=1, eps=0.1, conf=0.9)"
   ]
  },
  {
   "cell_type": "markdown",
   "metadata": {},
   "source": [
    "The number of queries is independent of the input dimension $d$"
   ]
  },
  {
   "cell_type": "code",
   "execution_count": 3,
   "metadata": {},
   "outputs": [
    {
     "data": {
      "text/plain": [
       "Text(0, 0.5, 'Calls')"
      ]
     },
     "execution_count": 3,
     "metadata": {},
     "output_type": "execute_result"
    },
    {
     "data": {
      "image/png": "[encoded data removed]",
      "text/plain": [
       "<Figure size 432x288 with 1 Axes>"
      ]
     },
     "metadata": {
      "needs_background": "light"
     },
     "output_type": "display_data"
    }
   ],
   "source": [
    "dims = range(1,100)\n",
    "calls = []\n",
    "for dim in dims:\n",
    "    g = make_linear(np.random.normal(size=dim))\n",
    "    linearity_tester(g, input_dim=dim, eps=0.1, conf=0.9)\n",
    "    calls.append(g.get_calls())\n",
    "plt.figure()\n",
    "plt.plot(dims, calls)\n",
    "plt.xlabel('$d$')\n",
    "plt.ylabel('Calls')"
   ]
  },
  {
   "cell_type": "markdown",
   "metadata": {},
   "source": [
    "The number of queries is $\\mathcal{O}\\left(\\frac{1}{\\epsilon}\\log\\frac{1}{\\epsilon}\\log\\frac{1}{\\delta}\\right)$ where $\\epsilon$ is the closeness parameter and $\\delta$ the probability of false positives"
   ]
  },
  {
   "cell_type": "code",
   "execution_count": 4,
   "metadata": {},
   "outputs": [
    {
     "data": {
      "text/plain": [
       "Text(0, 0.5, 'Calls')"
      ]
     },
     "execution_count": 4,
     "metadata": {},
     "output_type": "execute_result"
    },
    {
     "data": {
      "image/png": "[encoded data removed]",
      "text/plain": [
       "<Figure size 432x288 with 1 Axes>"
      ]
     },
     "metadata": {
      "needs_background": "light"
     },
     "output_type": "display_data"
    }
   ],
   "source": [
    "epss = np.linspace(0.01,0.5,50)\n",
    "calls = []\n",
    "for eps in epss:\n",
    "    f.reset_calls()\n",
    "    linearity_tester(f, input_dim=1, eps=eps, conf=0.9)\n",
    "    calls.append(f.get_calls())\n",
    "plt.figure()\n",
    "plt.plot(epss, calls)\n",
    "plt.xlabel('$\\epsilon$')\n",
    "plt.ylabel('Calls')"
   ]
  },
  {
   "cell_type": "code",
   "execution_count": 5,
   "metadata": {},
   "outputs": [
    {
     "data": {
      "text/plain": [
       "Text(0, 0.5, 'Calls')"
      ]
     },
     "execution_count": 5,
     "metadata": {},
     "output_type": "execute_result"
    },
    {
     "data": {
      "image/png": "[encoded data removed]",
      "text/plain": [
       "<Figure size 432x288 with 1 Axes>"
      ]
     },
     "metadata": {
      "needs_background": "light"
     },
     "output_type": "display_data"
    }
   ],
   "source": [
    "deltas = np.linspace(0.01,0.5,50)\n",
    "calls = []\n",
    "for delta in deltas:\n",
    "    f.reset_calls()\n",
    "    linearity_tester(f, input_dim=1, eps=0.1, conf=1-delta)\n",
    "    calls.append(f.get_calls())\n",
    "plt.figure()\n",
    "plt.plot(deltas, calls)\n",
    "plt.xlabel('$\\delta$')\n",
    "plt.ylabel('Calls')"
   ]
  },
  {
   "cell_type": "code",
   "execution_count": null,
   "metadata": {},
   "outputs": [],
   "source": [
    "calls = np.zeros((50,50))\n",
    "for i in range(50):\n",
    "    for j in range(50):\n",
    "        f.reset_calls()\n",
    "        linearity_tester(f, input_dim=1, eps=epss[i], conf=1-deltas[j])\n",
    "        calls[i][j] = f.get_calls()\n",
    "plt.figure()\n",
    "ax = plt.axes(projection='3d')\n",
    "X, Y = np.meshgrid(epss, deltas)\n",
    "ax.plot_surface(X, Y, calls)\n",
    "ax.set_xlabel('$\\epsilon$')\n",
    "ax.set_ylabel('$\\delta$')\n",
    "ax.set_zlabel('Calls')"
   ]
  },
  {
   "cell_type": "markdown",
   "metadata": {},
   "source": [
    "****"
   ]
  },
  {
   "cell_type": "markdown",
   "metadata": {},
   "source": [
    "## Nonlinear functions"
   ]
  },
  {
   "cell_type": "markdown",
   "metadata": {},
   "source": [
    "The test always accepts $\\epsilon$-linear functions, and has a false positive probability of $\\delta$ (note that $1-\\delta$ is our confidence parameter)"
   ]
  },
  {
   "cell_type": "markdown",
   "metadata": {},
   "source": [
    "### Stretched tanh"
   ]
  },
  {
   "cell_type": "markdown",
   "metadata": {},
   "source": [
    "Let's test $\\tanh\\left(\\frac{x}{k}\\right)$ functions: the larger the $k$, the more the function seems linear around zero"
   ]
  },
  {
   "cell_type": "code",
   "execution_count": null,
   "metadata": {},
   "outputs": [],
   "source": [
    "stretches = np.linspace(1,1000,100)\n",
    "functions = [make_stretched_tanh(stretch=stretch) for stretch in stretches]"
   ]
  },
  {
   "cell_type": "markdown",
   "metadata": {},
   "source": [
    "For large $k$ the function starts to be accepted, more so for higher $\\delta$ (yellow = accepted)"
   ]
  },
  {
   "cell_type": "code",
   "execution_count": null,
   "metadata": {},
   "outputs": [],
   "source": [
    "deltas = np.linspace(0.01,0.99,100)\n",
    "outcomes = np.array([[linearity_tester(f, input_dim=1, eps=0.1, conf=1-delta) for delta in deltas] \n",
    "                     for f in functions])\n",
    "plt.figure()\n",
    "plt.imshow(outcomes)\n",
    "plt.xlabel('$\\delta$')\n",
    "plt.ylabel('Stretch')"
   ]
  },
  {
   "cell_type": "markdown",
   "metadata": {},
   "source": [
    "Non dependence on $\\epsilon$ is observed"
   ]
  },
  {
   "cell_type": "code",
   "execution_count": null,
   "metadata": {},
   "outputs": [],
   "source": [
    "epss = np.linspace(0.01,0.99,100)\n",
    "outcomes = np.array([[linearity_tester(f, input_dim=1, eps=eps, conf=0.9) for eps in epss] \n",
    "                     for f in functions])\n",
    "plt.figure()\n",
    "plt.imshow(outcomes)\n",
    "plt.xlabel('$\\epsilon$')\n",
    "plt.ylabel('Noise')"
   ]
  },
  {
   "cell_type": "markdown",
   "metadata": {},
   "source": [
    "### Noisy linear"
   ]
  },
  {
   "cell_type": "markdown",
   "metadata": {},
   "source": [
    "Let's test noisy linear functions $f(x)=x+\\mathcal{N}(0,\\sigma^2)$"
   ]
  },
  {
   "cell_type": "code",
   "execution_count": null,
   "metadata": {},
   "outputs": [],
   "source": [
    "stds = np.linspace(0.01, 1, 100)\n",
    "functions = [make_noisy_linear(std=std) for std in stds]"
   ]
  },
  {
   "cell_type": "markdown",
   "metadata": {},
   "source": [
    "The function is rejected even for small $\\sigma$. Increasing $\\delta$ or $\\epsilon$ does not help"
   ]
  },
  {
   "cell_type": "code",
   "execution_count": null,
   "metadata": {},
   "outputs": [],
   "source": [
    "deltas = np.linspace(0.01,0.99,100)\n",
    "outcomes = np.array([[linearity_tester(f, input_dim=1, eps=0.1, conf=1-delta) for delta in deltas] \n",
    "                     for f in functions])\n",
    "plt.figure()\n",
    "plt.imshow(outcomes)\n",
    "plt.xlabel('$\\delta$')\n",
    "plt.ylabel('Noise')"
   ]
  },
  {
   "cell_type": "code",
   "execution_count": null,
   "metadata": {},
   "outputs": [],
   "source": [
    "epss = np.linspace(0.01,0.99,100)\n",
    "outcomes = np.array([[linearity_tester(f, input_dim=1, eps=eps, conf=0.9) for eps in epss] \n",
    "                     for f in functions])\n",
    "plt.figure()\n",
    "plt.imshow(outcomes)\n",
    "plt.xlabel('$\\epsilon$')\n",
    "plt.ylabel('\\sigma')"
   ]
  },
  {
   "cell_type": "markdown",
   "metadata": {},
   "source": [
    "### Corrupted linear"
   ]
  },
  {
   "cell_type": "markdown",
   "metadata": {},
   "source": [
    "Let's test corrupted linear functions $f(x)= x * (1-Be(p))$ where $p$ is the probability of corruption"
   ]
  },
  {
   "cell_type": "code",
   "execution_count": null,
   "metadata": {},
   "outputs": [],
   "source": [
    "ps = np.linspace(0, 1, 100)\n",
    "functions = [make_corrupted_linear(p=p) for p in ps]"
   ]
  },
  {
   "cell_type": "markdown",
   "metadata": {},
   "source": [
    "Only functions very close to linear are accepted (when $p=1$ the function is constant zero). Increasing $\\delta$ or $\\epsilon$ does not help much"
   ]
  },
  {
   "cell_type": "code",
   "execution_count": null,
   "metadata": {},
   "outputs": [],
   "source": [
    "deltas = np.linspace(0.01,0.99,100)\n",
    "outcomes = np.array([[linearity_tester(f, input_dim=1, eps=0.1, conf=1-delta) for delta in deltas] \n",
    "                     for f in functions])\n",
    "plt.figure()\n",
    "plt.imshow(outcomes)\n",
    "plt.xlabel('$\\delta$')\n",
    "plt.ylabel('Corruption')"
   ]
  },
  {
   "cell_type": "code",
   "execution_count": null,
   "metadata": {},
   "outputs": [],
   "source": [
    "epss = np.linspace(0.01,0.99,100)\n",
    "outcomes = np.array([[linearity_tester(f, input_dim=1, eps=eps, conf=0.9) for eps in epss] \n",
    "                     for f in functions])\n",
    "plt.figure()\n",
    "plt.imshow(outcomes)\n",
    "plt.xlabel('$\\epsilon$')\n",
    "plt.ylabel('Corruption')"
   ]
  },
  {
   "cell_type": "code",
   "execution_count": null,
   "metadata": {},
   "outputs": [],
   "source": []
  }
 ],
 "metadata": {
  "kernelspec": {
   "display_name": "Python 3",
   "language": "python",
   "name": "python3"
  },
  "language_info": {
   "codemirror_mode": {
    "name": "ipython",
    "version": 3
   },
   "file_extension": ".py",
   "mimetype": "text/x-python",
   "name": "python",
   "nbconvert_exporter": "python",
   "pygments_lexer": "ipython3",
   "version": "3.6.5"
  }
 },
 "nbformat": 4,
 "nbformat_minor": 2
}
